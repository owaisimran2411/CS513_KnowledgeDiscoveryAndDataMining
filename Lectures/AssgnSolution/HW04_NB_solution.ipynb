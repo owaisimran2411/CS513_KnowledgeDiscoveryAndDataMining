{
 "cells": [
  {
   "cell_type": "code",
   "execution_count": null,
   "id": "909cf7c6",
   "metadata": {},
   "outputs": [],
   "source": []
  },
  {
   "cell_type": "code",
   "execution_count": 1,
   "id": "ff6c0531",
   "metadata": {},
   "outputs": [],
   "source": [
    "import numpy as np\n",
    "import pandas as pd\n",
    "from sklearn.model_selection import train_test_split\n",
    "\n"
   ]
  },
  {
   "cell_type": "code",
   "execution_count": 2,
   "id": "e35c621c",
   "metadata": {},
   "outputs": [
    {
     "name": "stdout",
     "output_type": "stream",
     "text": [
      "      Sample  F1  F2  F3  F4  F5  F6  F7  F8  F9 Class\n",
      "23   1057013   8   4   5   1   2 NaN   7   3   1     4\n",
      "40   1096800   6   6   6   9   6 NaN   7   8   1     2\n",
      "139  1183246   1   1   1   1   1 NaN   2   1   1     2\n",
      "145  1184840   1   1   3   1   2 NaN   2   1   1     2\n",
      "158  1193683   1   1   2   1   3 NaN   1   1   1     2\n",
      "164  1197510   5   1   1   1   2 NaN   3   1   1     2\n",
      "235  1241232   3   1   4   1   2 NaN   3   1   1     2\n",
      "249   169356   3   1   1   1   2 NaN   3   1   1     2\n",
      "275   432809   3   1   3   1   2 NaN   2   1   1     2\n",
      "292   563649   8   8   8   1   2 NaN   6  10   1     4\n",
      "294   606140   1   1   1   1   2 NaN   2   1   1     2\n",
      "297    61634   5   4   3   1   2 NaN   2   3   1     2\n",
      "315   704168   4   6   5   6   7 NaN   4   9   1     2\n",
      "321   733639   3   1   1   1   2 NaN   3   1   1     2\n",
      "411  1238464   1   1   1   1   1 NaN   2   1   1     2\n",
      "617  1057067   1   1   1   1   1 NaN   1   1   1     2\n",
      "(699, 11)\n",
      "Sample     0\n",
      "F1         0\n",
      "F2         0\n",
      "F3         0\n",
      "F4         0\n",
      "F5         0\n",
      "F6        16\n",
      "F7         0\n",
      "F8         0\n",
      "F9         0\n",
      "Class      0\n",
      "dtype: int64\n",
      "\n",
      "shape : (683, 11)\n",
      "Sample    0\n",
      "F1        0\n",
      "F2        0\n",
      "F3        0\n",
      "F4        0\n",
      "F5        0\n",
      "F6        0\n",
      "F7        0\n",
      "F8        0\n",
      "F9        0\n",
      "Class     0\n",
      "dtype: int64\n"
     ]
    }
   ],
   "source": [
    "#Read the data in and remove any missing values\n",
    "#Remove any row with a missing value in any of the columns.\n",
    "filename='C:/Users/kdehn/OneDrive - stevens.edu/___Data/CSV_files/breast-cancer-wisconsin.csv'\n",
    "nan_values=['?']\n",
    "att_type={' Sample': 'str', 'Class':'category'}\n",
    "\n",
    "df=pd.read_csv(filename,dtype=att_type,na_values=nan_values)\n",
    "\n",
    "print(df[df.isna().any(axis=1)])\n",
    "\n",
    "print(df.shape)\n",
    "print(df.isnull().sum())\n",
    "print()\n",
    "df.dropna(inplace=True)\n",
    "df['F6'] = df['F6'].astype('int64')\n",
    "\n",
    "print(f\"shape : {df.shape}\")\n",
    "print(df.isnull().sum())\n",
    "# print(df.describe())\n",
    "# df.head()"
   ]
  },
  {
   "cell_type": "code",
   "execution_count": 3,
   "id": "e6423d6c",
   "metadata": {},
   "outputs": [
    {
     "name": "stdout",
     "output_type": "stream",
     "text": [
      "Sample       int64\n",
      "F1           int64\n",
      "F2           int64\n",
      "F3           int64\n",
      "F4           int64\n",
      "F5           int64\n",
      "F6           int64\n",
      "F7           int64\n",
      "F8           int64\n",
      "F9           int64\n",
      "Class     category\n",
      "dtype: object\n"
     ]
    },
    {
     "data": {
      "text/html": [
       "<div>\n",
       "<style scoped>\n",
       "    .dataframe tbody tr th:only-of-type {\n",
       "        vertical-align: middle;\n",
       "    }\n",
       "\n",
       "    .dataframe tbody tr th {\n",
       "        vertical-align: top;\n",
       "    }\n",
       "\n",
       "    .dataframe thead th {\n",
       "        text-align: right;\n",
       "    }\n",
       "</style>\n",
       "<table border=\"1\" class=\"dataframe\">\n",
       "  <thead>\n",
       "    <tr style=\"text-align: right;\">\n",
       "      <th></th>\n",
       "      <th>Sample</th>\n",
       "      <th>F1</th>\n",
       "      <th>F2</th>\n",
       "      <th>F3</th>\n",
       "      <th>F4</th>\n",
       "      <th>F5</th>\n",
       "      <th>F6</th>\n",
       "      <th>F7</th>\n",
       "      <th>F8</th>\n",
       "      <th>F9</th>\n",
       "      <th>Class</th>\n",
       "    </tr>\n",
       "  </thead>\n",
       "  <tbody>\n",
       "    <tr>\n",
       "      <th>0</th>\n",
       "      <td>1000025</td>\n",
       "      <td>5</td>\n",
       "      <td>1</td>\n",
       "      <td>1</td>\n",
       "      <td>1</td>\n",
       "      <td>2</td>\n",
       "      <td>1</td>\n",
       "      <td>3</td>\n",
       "      <td>1</td>\n",
       "      <td>1</td>\n",
       "      <td>2</td>\n",
       "    </tr>\n",
       "    <tr>\n",
       "      <th>1</th>\n",
       "      <td>1002945</td>\n",
       "      <td>5</td>\n",
       "      <td>4</td>\n",
       "      <td>4</td>\n",
       "      <td>5</td>\n",
       "      <td>7</td>\n",
       "      <td>10</td>\n",
       "      <td>3</td>\n",
       "      <td>2</td>\n",
       "      <td>1</td>\n",
       "      <td>2</td>\n",
       "    </tr>\n",
       "    <tr>\n",
       "      <th>2</th>\n",
       "      <td>1015425</td>\n",
       "      <td>3</td>\n",
       "      <td>1</td>\n",
       "      <td>1</td>\n",
       "      <td>1</td>\n",
       "      <td>2</td>\n",
       "      <td>2</td>\n",
       "      <td>3</td>\n",
       "      <td>1</td>\n",
       "      <td>1</td>\n",
       "      <td>2</td>\n",
       "    </tr>\n",
       "    <tr>\n",
       "      <th>3</th>\n",
       "      <td>1016277</td>\n",
       "      <td>6</td>\n",
       "      <td>8</td>\n",
       "      <td>8</td>\n",
       "      <td>1</td>\n",
       "      <td>3</td>\n",
       "      <td>4</td>\n",
       "      <td>3</td>\n",
       "      <td>7</td>\n",
       "      <td>1</td>\n",
       "      <td>2</td>\n",
       "    </tr>\n",
       "    <tr>\n",
       "      <th>4</th>\n",
       "      <td>1017023</td>\n",
       "      <td>4</td>\n",
       "      <td>1</td>\n",
       "      <td>1</td>\n",
       "      <td>3</td>\n",
       "      <td>2</td>\n",
       "      <td>1</td>\n",
       "      <td>3</td>\n",
       "      <td>1</td>\n",
       "      <td>1</td>\n",
       "      <td>2</td>\n",
       "    </tr>\n",
       "  </tbody>\n",
       "</table>\n",
       "</div>"
      ],
      "text/plain": [
       "    Sample  F1  F2  F3  F4  F5  F6  F7  F8  F9 Class\n",
       "0  1000025   5   1   1   1   2   1   3   1   1     2\n",
       "1  1002945   5   4   4   5   7  10   3   2   1     2\n",
       "2  1015425   3   1   1   1   2   2   3   1   1     2\n",
       "3  1016277   6   8   8   1   3   4   3   7   1     2\n",
       "4  1017023   4   1   1   3   2   1   3   1   1     2"
      ]
     },
     "execution_count": 3,
     "metadata": {},
     "output_type": "execute_result"
    }
   ],
   "source": [
    "print(df.dtypes)\n",
    "df.head()"
   ]
  },
  {
   "cell_type": "code",
   "execution_count": 4,
   "id": "56ec683e",
   "metadata": {},
   "outputs": [
    {
     "data": {
      "text/plain": [
       "579    2\n",
       "529    2\n",
       "596    2\n",
       "90     2\n",
       "347    2\n",
       "Name: Class, dtype: category\n",
       "Categories (2, object): ['2', '4']"
      ]
     },
     "execution_count": 4,
     "metadata": {},
     "output_type": "execute_result"
    }
   ],
   "source": [
    "# Splitting the dataset\n",
    "attr = df.drop(columns = ['Class','Sample'])  # features\n",
    "target = df['Class']  # target variable\n",
    "# attr.head()\n",
    "# target.head()\n",
    "attr_train, attr_test, target_train,target_test  = train_test_split(attr, target,test_size = 0.25, random_state = 44, shuffle = True)\n",
    "target_train.head()\n",
    "# attr_train.head()\n",
    "target_test.head()\n"
   ]
  },
  {
   "cell_type": "code",
   "execution_count": 5,
   "id": "606a2de3",
   "metadata": {},
   "outputs": [
    {
     "name": "stdout",
     "output_type": "stream",
     "text": [
      "Accuracy of model 0.9649122807017544%\n",
      "\n"
     ]
    }
   ],
   "source": [
    "from sklearn.naive_bayes import GaussianNB\n",
    "\n",
    "from sklearn.metrics import accuracy_score\n",
    "\n",
    "GNB = GaussianNB()\n",
    "GNB.fit(attr_train, target_train)\n",
    "target_pred = GNB.predict(attr_test)\n",
    "accuracy = accuracy_score(target_test,target_pred ) \n",
    "print(f'Accuracy of model {accuracy}%')\n",
    "print('')"
   ]
  },
  {
   "cell_type": "code",
   "execution_count": 6,
   "id": "b6e131d9",
   "metadata": {},
   "outputs": [
    {
     "name": "stdout",
     "output_type": "stream",
     "text": [
      "Accuracy of model 0.8947368421052632%\n",
      "\n"
     ]
    }
   ],
   "source": [
    "from sklearn.naive_bayes import MultinomialNB\n",
    "\n",
    "from sklearn.metrics import accuracy_score\n",
    "\n",
    "MNB = MultinomialNB()\n",
    "MNB.fit(attr_train, target_train)\n",
    "target_pred = MNB.predict(attr_test)\n",
    "accuracy = accuracy_score(target_test,target_pred ) \n",
    "print(f'Accuracy of model {accuracy}%')\n",
    "print('')"
   ]
  }
 ],
 "metadata": {
  "kernelspec": {
   "display_name": "Python 3 (ipykernel)",
   "language": "python",
   "name": "python3"
  },
  "language_info": {
   "codemirror_mode": {
    "name": "ipython",
    "version": 3
   },
   "file_extension": ".py",
   "mimetype": "text/x-python",
   "name": "python",
   "nbconvert_exporter": "python",
   "pygments_lexer": "ipython3",
   "version": "3.10.9"
  }
 },
 "nbformat": 4,
 "nbformat_minor": 5
}
