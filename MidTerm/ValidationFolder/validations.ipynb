{
 "cells": [
  {
   "cell_type": "code",
   "execution_count": 14,
   "id": "1cda693f-9106-4a6d-a2ce-1529ec6b3e6a",
   "metadata": {},
   "outputs": [],
   "source": [
    "# import pandas as pd\n",
    "# from sklearn.model_selection import train_test_split\n",
    "# from sklearn.neighbors import KNeighborsClassifier\n",
    "# from sklearn.metrics import accuracy_score\n",
    "\n",
    "# # Load the training data from a CSV file with headers\n",
    "# train_data = pd.read_csv('./knn.csv')\n",
    "\n",
    "# # Load the test data from a separate CSV file with headers\n",
    "# test_data = pd.read_csv('./knnTest.csv')\n",
    "\n",
    "# # Assuming that the target variable is in a column named 'target' in the training data\n",
    "# X_train = train_data.drop('BP_Status', axis=1)\n",
    "# y_train = train_data['BP_Status']\n",
    "\n",
    "# # Assuming that the test data has the same feature columns as the training data\n",
    "# X_test = test_data\n",
    "\n",
    "# # Choose the number of neighbors (k) for the KNN model\n",
    "# k = 2\n",
    "\n",
    "# # Create a KNN classifier\n",
    "# knn_classifier = KNeighborsClassifier(n_neighbors=k, weights='distance')\n",
    "\n",
    "# # Train the KNN classifier on the training data\n",
    "# knn_classifier.fit(X_train, y_train)\n",
    "\n",
    "# # Make predictions on the test data\n",
    "# y_pred = knn_classifier.predict(X_test)\n",
    "# print(X_test)\n",
    "# print(y_pred)\n",
    "\n",
    "# # You can now use y_pred for further analysis or evaluation\n",
    "\n",
    "# # If you have the true labels for the test data, you can calculate the accuracy\n",
    "# # Assuming you have a 'true_labels' array for the true labels\n",
    "# # accuracy = accuracy_score(true_labels, y_pred)\n",
    "# # print(f'Accuracy: {accuracy}')\n"
   ]
  },
  {
   "cell_type": "code",
   "execution_count": 5,
   "id": "079a0fcb-a6d6-4623-982b-e8e3ab8e62f5",
   "metadata": {},
   "outputs": [
    {
     "name": "stdout",
     "output_type": "stream",
     "text": [
      "   Smoker  Gender\n",
      "0       2       1\n",
      "1       5       1\n",
      "2       3       1\n",
      "3       4       2\n",
      "4       1       1\n",
      "[0 1 0 1 0]\n"
     ]
    }
   ],
   "source": [
    "import pandas as pd\n",
    "from sklearn.naive_bayes import GaussianNB\n",
    "from sklearn.metrics import accuracy_score\n",
    "\n",
    "class ZeroSmoothingGaussianNB(GaussianNB):\n",
    "    def __init__(self, **kwargs):\n",
    "        super().__init__(**kwargs)\n",
    "        self.var_smoothing = 0.0\n",
    "\n",
    "# Load the training data from a CSV file with headers\n",
    "train_data = pd.read_csv('./train.csv')\n",
    "\n",
    "# Load the test data from a separate CSV file with headers\n",
    "test_data = pd.read_csv('./test.csv')\n",
    "\n",
    "# Assuming that the target variable is in a column named 'target' in the training data\n",
    "X_train = train_data.drop('BP_Status', axis=1)\n",
    "y_train = train_data['BP_Status']\n",
    "\n",
    "# Assuming that the test data has the same feature columns as the training data\n",
    "X_test = test_data\n",
    "\n",
    "# Create a Gaussian Naive Bayes classifier\n",
    "gnb_classifier = ZeroSmoothingGaussianNB()\n",
    "\n",
    "# Train the Gaussian Naive Bayes classifier on the training data\n",
    "gnb_classifier.fit(X_train, y_train)\n",
    "\n",
    "# Make predictions on the test data\n",
    "y_pred = gnb_classifier.predict(X_test)\n",
    "\n",
    "print(X_test)\n",
    "print(y_pred)\n",
    "\n",
    "# You can now use y_pred for further analysis or evaluation\n",
    "\n",
    "# If you have the true labels for the test data, you can calculate the accuracy\n",
    "# Assuming you have a 'true_labels' array for the true labels\n",
    "# accuracy = accuracy_score(true_labels, y_pred)\n",
    "# print(f'Accuracy: {accuracy}')\n"
   ]
  }
 ],
 "metadata": {
  "kernelspec": {
   "display_name": "Python 3 (ipykernel)",
   "language": "python",
   "name": "python3"
  },
  "language_info": {
   "codemirror_mode": {
    "name": "ipython",
    "version": 3
   },
   "file_extension": ".py",
   "mimetype": "text/x-python",
   "name": "python",
   "nbconvert_exporter": "python",
   "pygments_lexer": "ipython3",
   "version": "3.11.5"
  }
 },
 "nbformat": 4,
 "nbformat_minor": 5
}
