{
 "cells": [
  {
   "cell_type": "code",
   "execution_count": 1,
   "id": "76ee7eb3-f3ea-4638-99ca-c3d4418a5f2a",
   "metadata": {},
   "outputs": [
    {
     "name": "stdout",
     "output_type": "stream",
     "text": [
      "WARNING:tensorflow:From c:\\Users\\owais\\AppData\\Local\\Programs\\Python\\Python311\\Lib\\site-packages\\keras\\src\\losses.py:2976: The name tf.losses.sparse_softmax_cross_entropy is deprecated. Please use tf.compat.v1.losses.sparse_softmax_cross_entropy instead.\n",
      "\n"
     ]
    }
   ],
   "source": [
    "# library import\n",
    "import pandas as pd\n",
    "import numpy as np\n",
    "from sklearn.model_selection import train_test_split\n",
    "from sklearn.metrics import accuracy_score, classification_report, confusion_matrix\n",
    "from sklearn.preprocessing import StandardScaler, LabelEncoder\n",
    "from keras.models import Sequential\n",
    "from keras.layers import Dense\n",
    "from keras.utils import to_categorical\n",
    "from keras.optimizers import Adam"
   ]
  },
  {
   "cell_type": "code",
   "execution_count": 2,
   "id": "6ac9a88b-50e7-4c37-8e76-9080c0bcd6bc",
   "metadata": {},
   "outputs": [
    {
     "data": {
      "text/html": [
       "<div>\n",
       "<style scoped>\n",
       "    .dataframe tbody tr th:only-of-type {\n",
       "        vertical-align: middle;\n",
       "    }\n",
       "\n",
       "    .dataframe tbody tr th {\n",
       "        vertical-align: top;\n",
       "    }\n",
       "\n",
       "    .dataframe thead th {\n",
       "        text-align: right;\n",
       "    }\n",
       "</style>\n",
       "<table border=\"1\" class=\"dataframe\">\n",
       "  <thead>\n",
       "    <tr style=\"text-align: right;\">\n",
       "      <th></th>\n",
       "      <th>RestHR</th>\n",
       "      <th>MaxHR</th>\n",
       "      <th>RecHR</th>\n",
       "      <th>BP</th>\n",
       "    </tr>\n",
       "  </thead>\n",
       "  <tbody>\n",
       "    <tr>\n",
       "      <th>0</th>\n",
       "      <td>100</td>\n",
       "      <td>133</td>\n",
       "      <td>89</td>\n",
       "      <td>106</td>\n",
       "    </tr>\n",
       "    <tr>\n",
       "      <th>1</th>\n",
       "      <td>105</td>\n",
       "      <td>143</td>\n",
       "      <td>89</td>\n",
       "      <td>116</td>\n",
       "    </tr>\n",
       "    <tr>\n",
       "      <th>2</th>\n",
       "      <td>96</td>\n",
       "      <td>134</td>\n",
       "      <td>89</td>\n",
       "      <td>109</td>\n",
       "    </tr>\n",
       "    <tr>\n",
       "      <th>3</th>\n",
       "      <td>101</td>\n",
       "      <td>144</td>\n",
       "      <td>89</td>\n",
       "      <td>119</td>\n",
       "    </tr>\n",
       "    <tr>\n",
       "      <th>4</th>\n",
       "      <td>96</td>\n",
       "      <td>136</td>\n",
       "      <td>85</td>\n",
       "      <td>106</td>\n",
       "    </tr>\n",
       "  </tbody>\n",
       "</table>\n",
       "</div>"
      ],
      "text/plain": [
       "   RestHR  MaxHR  RecHR   BP\n",
       "0     100    133     89  106\n",
       "1     105    143     89  116\n",
       "2      96    134     89  109\n",
       "3     101    144     89  119\n",
       "4      96    136     85  106"
      ]
     },
     "execution_count": 2,
     "metadata": {},
     "output_type": "execute_result"
    }
   ],
   "source": [
    "df = pd.read_csv(\"./MuhammadOwais_Imran_HeartAttack.csv\")\n",
    "\n",
    "# Encoding categorical data (if 'Heart_attack' is categorical)\n",
    "label_encoder = LabelEncoder()\n",
    "df['Heart_attack'] = label_encoder.fit_transform(df['Heart_attack'])\n",
    "\n",
    "# Split features and target variable\n",
    "X = df.drop(columns=['Heart_attack'])\n",
    "y = df['Heart_attack']\n",
    "\n",
    "X.head()"
   ]
  },
  {
   "cell_type": "code",
   "execution_count": 3,
   "id": "e6707896-03eb-499f-a48f-de8ee7bcc67b",
   "metadata": {},
   "outputs": [],
   "source": [
    "# Standardizing Data using Standard Scaler\n",
    "scaler = StandardScaler()\n",
    "X = scaler.fit_transform(X)"
   ]
  },
  {
   "cell_type": "code",
   "execution_count": 4,
   "id": "52c4695d-cc40-435a-a5f1-fce93a3be152",
   "metadata": {},
   "outputs": [],
   "source": [
    "# dividing data into 30% test and 70% train\n",
    "X_train, X_test, y_train, y_test = train_test_split(X, y, test_size=0.3, random_state=42)"
   ]
  },
  {
   "cell_type": "code",
   "execution_count": 5,
   "id": "8ae195ad-29db-4238-bfb8-b174f5769c3d",
   "metadata": {},
   "outputs": [
    {
     "name": "stdout",
     "output_type": "stream",
     "text": [
      "WARNING:tensorflow:From c:\\Users\\owais\\AppData\\Local\\Programs\\Python\\Python311\\Lib\\site-packages\\keras\\src\\backend.py:873: The name tf.get_default_graph is deprecated. Please use tf.compat.v1.get_default_graph instead.\n",
      "\n",
      "Epoch 1/50\n"
     ]
    },
    {
     "name": "stderr",
     "output_type": "stream",
     "text": [
      "c:\\Users\\owais\\AppData\\Local\\Programs\\Python\\Python311\\Lib\\site-packages\\tensorflow\\python\\util\\dispatch.py:1260: SyntaxWarning: In loss categorical_crossentropy, expected y_pred.shape to be (batch_size, num_classes) with num_classes > 1. Received: y_pred.shape=(None, 1). Consider using 'binary_crossentropy' if you only have 2 classes.\n",
      "  return dispatch_target(*args, **kwargs)\n"
     ]
    },
    {
     "name": "stdout",
     "output_type": "stream",
     "text": [
      "WARNING:tensorflow:From c:\\Users\\owais\\AppData\\Local\\Programs\\Python\\Python311\\Lib\\site-packages\\keras\\src\\utils\\tf_utils.py:492: The name tf.ragged.RaggedTensorValue is deprecated. Please use tf.compat.v1.ragged.RaggedTensorValue instead.\n",
      "\n",
      "WARNING:tensorflow:From c:\\Users\\owais\\AppData\\Local\\Programs\\Python\\Python311\\Lib\\site-packages\\keras\\src\\engine\\base_layer_utils.py:384: The name tf.executing_eagerly_outside_functions is deprecated. Please use tf.compat.v1.executing_eagerly_outside_functions instead.\n",
      "\n",
      "7/7 [==============================] - 2s 75ms/step - loss: 0.0000e+00 - accuracy: 0.3095 - val_loss: 0.0000e+00 - val_accuracy: 0.3889\n",
      "Epoch 2/50\n",
      "7/7 [==============================] - 0s 17ms/step - loss: 0.0000e+00 - accuracy: 0.3095 - val_loss: 0.0000e+00 - val_accuracy: 0.3889\n",
      "Epoch 3/50\n",
      "7/7 [==============================] - 0s 19ms/step - loss: 0.0000e+00 - accuracy: 0.3095 - val_loss: 0.0000e+00 - val_accuracy: 0.3889\n",
      "Epoch 4/50\n",
      "7/7 [==============================] - 0s 18ms/step - loss: 0.0000e+00 - accuracy: 0.3095 - val_loss: 0.0000e+00 - val_accuracy: 0.3889\n",
      "Epoch 5/50\n",
      "7/7 [==============================] - 0s 15ms/step - loss: 0.0000e+00 - accuracy: 0.3095 - val_loss: 0.0000e+00 - val_accuracy: 0.3889\n",
      "Epoch 6/50\n",
      "7/7 [==============================] - 0s 16ms/step - loss: 0.0000e+00 - accuracy: 0.3095 - val_loss: 0.0000e+00 - val_accuracy: 0.3889\n",
      "Epoch 7/50\n",
      "7/7 [==============================] - 0s 16ms/step - loss: 0.0000e+00 - accuracy: 0.3095 - val_loss: 0.0000e+00 - val_accuracy: 0.3889\n",
      "Epoch 8/50\n",
      "7/7 [==============================] - 0s 16ms/step - loss: 0.0000e+00 - accuracy: 0.3095 - val_loss: 0.0000e+00 - val_accuracy: 0.3889\n",
      "Epoch 9/50\n",
      "7/7 [==============================] - 0s 17ms/step - loss: 0.0000e+00 - accuracy: 0.3095 - val_loss: 0.0000e+00 - val_accuracy: 0.3889\n",
      "Epoch 10/50\n",
      "7/7 [==============================] - 0s 17ms/step - loss: 0.0000e+00 - accuracy: 0.3095 - val_loss: 0.0000e+00 - val_accuracy: 0.3889\n",
      "Epoch 11/50\n",
      "7/7 [==============================] - 0s 17ms/step - loss: 0.0000e+00 - accuracy: 0.3095 - val_loss: 0.0000e+00 - val_accuracy: 0.3889\n",
      "Epoch 12/50\n",
      "7/7 [==============================] - 0s 17ms/step - loss: 0.0000e+00 - accuracy: 0.3095 - val_loss: 0.0000e+00 - val_accuracy: 0.3889\n",
      "Epoch 13/50\n",
      "7/7 [==============================] - 0s 17ms/step - loss: 0.0000e+00 - accuracy: 0.3095 - val_loss: 0.0000e+00 - val_accuracy: 0.3889\n",
      "Epoch 14/50\n",
      "7/7 [==============================] - 0s 18ms/step - loss: 0.0000e+00 - accuracy: 0.3095 - val_loss: 0.0000e+00 - val_accuracy: 0.3889\n",
      "Epoch 15/50\n",
      "7/7 [==============================] - 0s 16ms/step - loss: 0.0000e+00 - accuracy: 0.3095 - val_loss: 0.0000e+00 - val_accuracy: 0.3889\n",
      "Epoch 16/50\n",
      "7/7 [==============================] - 0s 16ms/step - loss: 0.0000e+00 - accuracy: 0.3095 - val_loss: 0.0000e+00 - val_accuracy: 0.3889\n",
      "Epoch 17/50\n",
      "7/7 [==============================] - 0s 15ms/step - loss: 0.0000e+00 - accuracy: 0.3095 - val_loss: 0.0000e+00 - val_accuracy: 0.3889\n",
      "Epoch 18/50\n",
      "7/7 [==============================] - 0s 16ms/step - loss: 0.0000e+00 - accuracy: 0.3095 - val_loss: 0.0000e+00 - val_accuracy: 0.3889\n",
      "Epoch 19/50\n",
      "7/7 [==============================] - 0s 16ms/step - loss: 0.0000e+00 - accuracy: 0.3095 - val_loss: 0.0000e+00 - val_accuracy: 0.3889\n",
      "Epoch 20/50\n",
      "7/7 [==============================] - 0s 16ms/step - loss: 0.0000e+00 - accuracy: 0.3095 - val_loss: 0.0000e+00 - val_accuracy: 0.3889\n",
      "Epoch 21/50\n",
      "7/7 [==============================] - 0s 16ms/step - loss: 0.0000e+00 - accuracy: 0.3190 - val_loss: 0.0000e+00 - val_accuracy: 0.3889\n",
      "Epoch 22/50\n",
      "7/7 [==============================] - 0s 15ms/step - loss: 0.0000e+00 - accuracy: 0.3286 - val_loss: 0.0000e+00 - val_accuracy: 0.4000\n",
      "Epoch 23/50\n",
      "7/7 [==============================] - 0s 15ms/step - loss: 0.0000e+00 - accuracy: 0.3476 - val_loss: 0.0000e+00 - val_accuracy: 0.4000\n",
      "Epoch 24/50\n",
      "7/7 [==============================] - 0s 15ms/step - loss: 0.0000e+00 - accuracy: 0.3714 - val_loss: 0.0000e+00 - val_accuracy: 0.4778\n",
      "Epoch 25/50\n",
      "7/7 [==============================] - 0s 26ms/step - loss: 0.0000e+00 - accuracy: 0.4048 - val_loss: 0.0000e+00 - val_accuracy: 0.4889\n",
      "Epoch 26/50\n",
      "7/7 [==============================] - 0s 15ms/step - loss: 0.0000e+00 - accuracy: 0.4476 - val_loss: 0.0000e+00 - val_accuracy: 0.5444\n",
      "Epoch 27/50\n",
      "7/7 [==============================] - 0s 18ms/step - loss: 0.0000e+00 - accuracy: 0.4619 - val_loss: 0.0000e+00 - val_accuracy: 0.5667\n",
      "Epoch 28/50\n",
      "7/7 [==============================] - 0s 17ms/step - loss: 0.0000e+00 - accuracy: 0.4905 - val_loss: 0.0000e+00 - val_accuracy: 0.6000\n",
      "Epoch 29/50\n",
      "7/7 [==============================] - 0s 16ms/step - loss: 0.0000e+00 - accuracy: 0.5143 - val_loss: 0.0000e+00 - val_accuracy: 0.6222\n",
      "Epoch 30/50\n",
      "7/7 [==============================] - 0s 14ms/step - loss: 0.0000e+00 - accuracy: 0.5333 - val_loss: 0.0000e+00 - val_accuracy: 0.6333\n",
      "Epoch 31/50\n",
      "7/7 [==============================] - 0s 17ms/step - loss: 0.0000e+00 - accuracy: 0.5571 - val_loss: 0.0000e+00 - val_accuracy: 0.6444\n",
      "Epoch 32/50\n",
      "7/7 [==============================] - 0s 17ms/step - loss: 0.0000e+00 - accuracy: 0.5619 - val_loss: 0.0000e+00 - val_accuracy: 0.6556\n",
      "Epoch 33/50\n",
      "7/7 [==============================] - 0s 14ms/step - loss: 0.0000e+00 - accuracy: 0.5905 - val_loss: 0.0000e+00 - val_accuracy: 0.6667\n",
      "Epoch 34/50\n",
      "7/7 [==============================] - 0s 17ms/step - loss: 0.0000e+00 - accuracy: 0.5952 - val_loss: 0.0000e+00 - val_accuracy: 0.6778\n",
      "Epoch 35/50\n",
      "7/7 [==============================] - 0s 15ms/step - loss: 0.0000e+00 - accuracy: 0.6286 - val_loss: 0.0000e+00 - val_accuracy: 0.6889\n",
      "Epoch 36/50\n",
      "7/7 [==============================] - 0s 14ms/step - loss: 0.0000e+00 - accuracy: 0.6381 - val_loss: 0.0000e+00 - val_accuracy: 0.6889\n",
      "Epoch 37/50\n",
      "7/7 [==============================] - 0s 14ms/step - loss: 0.0000e+00 - accuracy: 0.6476 - val_loss: 0.0000e+00 - val_accuracy: 0.6889\n",
      "Epoch 38/50\n",
      "7/7 [==============================] - 0s 15ms/step - loss: 0.0000e+00 - accuracy: 0.6476 - val_loss: 0.0000e+00 - val_accuracy: 0.6889\n",
      "Epoch 39/50\n",
      "7/7 [==============================] - 0s 17ms/step - loss: 0.0000e+00 - accuracy: 0.6476 - val_loss: 0.0000e+00 - val_accuracy: 0.6889\n",
      "Epoch 40/50\n",
      "7/7 [==============================] - 0s 65ms/step - loss: 0.0000e+00 - accuracy: 0.6476 - val_loss: 0.0000e+00 - val_accuracy: 0.6889\n",
      "Epoch 41/50\n",
      "7/7 [==============================] - 0s 16ms/step - loss: 0.0000e+00 - accuracy: 0.6476 - val_loss: 0.0000e+00 - val_accuracy: 0.6889\n",
      "Epoch 42/50\n",
      "7/7 [==============================] - 0s 15ms/step - loss: 0.0000e+00 - accuracy: 0.6476 - val_loss: 0.0000e+00 - val_accuracy: 0.6889\n",
      "Epoch 43/50\n",
      "7/7 [==============================] - 0s 15ms/step - loss: 0.0000e+00 - accuracy: 0.6476 - val_loss: 0.0000e+00 - val_accuracy: 0.6889\n",
      "Epoch 44/50\n",
      "7/7 [==============================] - 0s 17ms/step - loss: 0.0000e+00 - accuracy: 0.6476 - val_loss: 0.0000e+00 - val_accuracy: 0.6889\n",
      "Epoch 45/50\n",
      "7/7 [==============================] - 0s 18ms/step - loss: 0.0000e+00 - accuracy: 0.6476 - val_loss: 0.0000e+00 - val_accuracy: 0.6889\n",
      "Epoch 46/50\n",
      "7/7 [==============================] - 0s 26ms/step - loss: 0.0000e+00 - accuracy: 0.6476 - val_loss: 0.0000e+00 - val_accuracy: 0.6889\n",
      "Epoch 47/50\n",
      "7/7 [==============================] - 0s 20ms/step - loss: 0.0000e+00 - accuracy: 0.6476 - val_loss: 0.0000e+00 - val_accuracy: 0.6889\n",
      "Epoch 48/50\n",
      "7/7 [==============================] - 0s 16ms/step - loss: 0.0000e+00 - accuracy: 0.6476 - val_loss: 0.0000e+00 - val_accuracy: 0.6889\n",
      "Epoch 49/50\n",
      "7/7 [==============================] - 0s 20ms/step - loss: 0.0000e+00 - accuracy: 0.6476 - val_loss: 0.0000e+00 - val_accuracy: 0.6889\n",
      "Epoch 50/50\n",
      "7/7 [==============================] - 0s 18ms/step - loss: 0.0000e+00 - accuracy: 0.6524 - val_loss: 0.0000e+00 - val_accuracy: 0.6889\n"
     ]
    },
    {
     "data": {
      "text/plain": [
       "<keras.src.callbacks.History at 0x1e4f78fda50>"
      ]
     },
     "execution_count": 5,
     "metadata": {},
     "output_type": "execute_result"
    }
   ],
   "source": [
    "model = Sequential()\n",
    "model.add(Dense(10, input_shape=(X_train.shape[1],), activation='sigmoid'))\n",
    "model.add(Dense(1, activation='sigmoid'))\n",
    "\n",
    "# Compile the model\n",
    "model.compile(optimizer=Adam(learning_rate=0.001), loss='categorical_crossentropy', metrics=['accuracy'])\n",
    "\n",
    "# Train the model\n",
    "batch_size = 32\n",
    "epochs = 50\n",
    "model.fit(X_train, y_train, batch_size=batch_size, epochs=epochs, verbose=1, validation_data=(X_test, y_test))"
   ]
  },
  {
   "cell_type": "code",
   "execution_count": 6,
   "id": "936f3b95-96d1-45fd-afad-7f2bda0038ea",
   "metadata": {},
   "outputs": [
    {
     "name": "stdout",
     "output_type": "stream",
     "text": [
      "3/3 [==============================] - 0s 5ms/step - loss: 0.0000e+00 - accuracy: 0.6889\n",
      "Test Loss: 0.0, Test Accuracy: 0.6888889074325562\n"
     ]
    }
   ],
   "source": [
    "loss, accuracy = model.evaluate(X_test, y_test)\n",
    "print(f'Test Loss: {loss}, Test Accuracy: {accuracy}')"
   ]
  },
  {
   "cell_type": "markdown",
   "id": "b00c7d79-9aad-44da-b41c-1fbb9b8c6c4f",
   "metadata": {},
   "source": [
    "<b>Accuracy of Model is: ~68.9% </b>"
   ]
  }
 ],
 "metadata": {
  "kernelspec": {
   "display_name": "Python 3 (ipykernel)",
   "language": "python",
   "name": "python3"
  },
  "language_info": {
   "codemirror_mode": {
    "name": "ipython",
    "version": 3
   },
   "file_extension": ".py",
   "mimetype": "text/x-python",
   "name": "python",
   "nbconvert_exporter": "python",
   "pygments_lexer": "ipython3",
   "version": "3.11.5"
  }
 },
 "nbformat": 4,
 "nbformat_minor": 5
}
