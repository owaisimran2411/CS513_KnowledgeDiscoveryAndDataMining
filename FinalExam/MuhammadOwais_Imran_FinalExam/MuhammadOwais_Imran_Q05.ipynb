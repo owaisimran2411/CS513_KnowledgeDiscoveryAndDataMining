{
 "cells": [
  {
   "cell_type": "code",
   "execution_count": 1,
   "id": "76b0aadd-ee3d-4f28-9a01-348fb2807949",
   "metadata": {},
   "outputs": [],
   "source": [
    "# library import\n",
    "import pandas as pd\n",
    "import numpy as np\n",
    "from sklearn.tree import DecisionTreeClassifier, plot_tree\n",
    "import matplotlib.pyplot as plt\n",
    "from sklearn.model_selection import train_test_split\n",
    "from sklearn.metrics import accuracy_score, classification_report, confusion_matrix\n",
    "from sklearn.ensemble import RandomForestClassifier"
   ]
  },
  {
   "cell_type": "code",
   "execution_count": 14,
   "id": "2c9e31e6-5852-486a-be0f-d2f8a52819a2",
   "metadata": {},
   "outputs": [
    {
     "name": "stdout",
     "output_type": "stream",
     "text": [
      "(300, 5)\n"
     ]
    },
    {
     "data": {
      "text/html": [
       "<div>\n",
       "<style scoped>\n",
       "    .dataframe tbody tr th:only-of-type {\n",
       "        vertical-align: middle;\n",
       "    }\n",
       "\n",
       "    .dataframe tbody tr th {\n",
       "        vertical-align: top;\n",
       "    }\n",
       "\n",
       "    .dataframe thead th {\n",
       "        text-align: right;\n",
       "    }\n",
       "</style>\n",
       "<table border=\"1\" class=\"dataframe\">\n",
       "  <thead>\n",
       "    <tr style=\"text-align: right;\">\n",
       "      <th></th>\n",
       "      <th>RestHR</th>\n",
       "      <th>MaxHR</th>\n",
       "      <th>RecHR</th>\n",
       "      <th>BP</th>\n",
       "      <th>Heart_attack</th>\n",
       "    </tr>\n",
       "  </thead>\n",
       "  <tbody>\n",
       "    <tr>\n",
       "      <th>0</th>\n",
       "      <td>100</td>\n",
       "      <td>133</td>\n",
       "      <td>89</td>\n",
       "      <td>106</td>\n",
       "      <td>Light</td>\n",
       "    </tr>\n",
       "    <tr>\n",
       "      <th>1</th>\n",
       "      <td>105</td>\n",
       "      <td>143</td>\n",
       "      <td>89</td>\n",
       "      <td>116</td>\n",
       "      <td>Light</td>\n",
       "    </tr>\n",
       "    <tr>\n",
       "      <th>2</th>\n",
       "      <td>96</td>\n",
       "      <td>134</td>\n",
       "      <td>89</td>\n",
       "      <td>109</td>\n",
       "      <td>Light</td>\n",
       "    </tr>\n",
       "    <tr>\n",
       "      <th>3</th>\n",
       "      <td>101</td>\n",
       "      <td>144</td>\n",
       "      <td>89</td>\n",
       "      <td>119</td>\n",
       "      <td>Light</td>\n",
       "    </tr>\n",
       "    <tr>\n",
       "      <th>4</th>\n",
       "      <td>96</td>\n",
       "      <td>136</td>\n",
       "      <td>85</td>\n",
       "      <td>106</td>\n",
       "      <td>Light</td>\n",
       "    </tr>\n",
       "  </tbody>\n",
       "</table>\n",
       "</div>"
      ],
      "text/plain": [
       "   RestHR  MaxHR  RecHR   BP Heart_attack\n",
       "0     100    133     89  106        Light\n",
       "1     105    143     89  116        Light\n",
       "2      96    134     89  109        Light\n",
       "3     101    144     89  119        Light\n",
       "4      96    136     85  106        Light"
      ]
     },
     "execution_count": 14,
     "metadata": {},
     "output_type": "execute_result"
    }
   ],
   "source": [
    "df = pd.read_csv(\"./MuhammadOwais_Imran_HeartAttack.csv\")\n",
    "print(df.shape)\n",
    "df.head()"
   ]
  },
  {
   "cell_type": "code",
   "execution_count": 15,
   "id": "164cb32e-c036-49bf-8aba-7b9e7ed74dea",
   "metadata": {},
   "outputs": [
    {
     "data": {
      "text/html": [
       "<div>\n",
       "<style scoped>\n",
       "    .dataframe tbody tr th:only-of-type {\n",
       "        vertical-align: middle;\n",
       "    }\n",
       "\n",
       "    .dataframe tbody tr th {\n",
       "        vertical-align: top;\n",
       "    }\n",
       "\n",
       "    .dataframe thead th {\n",
       "        text-align: right;\n",
       "    }\n",
       "</style>\n",
       "<table border=\"1\" class=\"dataframe\">\n",
       "  <thead>\n",
       "    <tr style=\"text-align: right;\">\n",
       "      <th></th>\n",
       "      <th>RestHR</th>\n",
       "      <th>MaxHR</th>\n",
       "      <th>RecHR</th>\n",
       "      <th>BP</th>\n",
       "    </tr>\n",
       "  </thead>\n",
       "  <tbody>\n",
       "    <tr>\n",
       "      <th>0</th>\n",
       "      <td>100</td>\n",
       "      <td>133</td>\n",
       "      <td>89</td>\n",
       "      <td>106</td>\n",
       "    </tr>\n",
       "    <tr>\n",
       "      <th>1</th>\n",
       "      <td>105</td>\n",
       "      <td>143</td>\n",
       "      <td>89</td>\n",
       "      <td>116</td>\n",
       "    </tr>\n",
       "    <tr>\n",
       "      <th>2</th>\n",
       "      <td>96</td>\n",
       "      <td>134</td>\n",
       "      <td>89</td>\n",
       "      <td>109</td>\n",
       "    </tr>\n",
       "    <tr>\n",
       "      <th>3</th>\n",
       "      <td>101</td>\n",
       "      <td>144</td>\n",
       "      <td>89</td>\n",
       "      <td>119</td>\n",
       "    </tr>\n",
       "    <tr>\n",
       "      <th>4</th>\n",
       "      <td>96</td>\n",
       "      <td>136</td>\n",
       "      <td>85</td>\n",
       "      <td>106</td>\n",
       "    </tr>\n",
       "  </tbody>\n",
       "</table>\n",
       "</div>"
      ],
      "text/plain": [
       "   RestHR  MaxHR  RecHR   BP\n",
       "0     100    133     89  106\n",
       "1     105    143     89  116\n",
       "2      96    134     89  109\n",
       "3     101    144     89  119\n",
       "4      96    136     85  106"
      ]
     },
     "execution_count": 15,
     "metadata": {},
     "output_type": "execute_result"
    }
   ],
   "source": [
    "# separating target and data\n",
    "target = df['Heart_attack']\n",
    "df.drop(columns=['Heart_attack'], inplace=True)\n",
    "df.head()"
   ]
  },
  {
   "cell_type": "code",
   "execution_count": 16,
   "id": "508ec426-659b-4123-936c-fa5c657f52c9",
   "metadata": {},
   "outputs": [],
   "source": [
    "# dividing data into 30% test and 70% train\n",
    "X_train, X_test, Y_train, Y_test = train_test_split(df, target, test_size=0.3, random_state=42, shuffle=True)"
   ]
  },
  {
   "cell_type": "code",
   "execution_count": 17,
   "id": "fb6e11c9-ce69-4926-abbd-57b640e2da3e",
   "metadata": {},
   "outputs": [
    {
     "name": "stdout",
     "output_type": "stream",
     "text": [
      "Model Accuracy: 0.9444444444444444\n",
      "Confusion Matrix:\n",
      " [[34  0  1]\n",
      " [ 0 27  0]\n",
      " [ 0  4 24]]\n",
      "\n",
      "Classification Report:\n",
      "               precision    recall  f1-score   support\n",
      "\n",
      "       Light       1.00      0.97      0.99        35\n",
      "     Massive       0.87      1.00      0.93        27\n",
      "        Mild       0.96      0.86      0.91        28\n",
      "\n",
      "    accuracy                           0.94        90\n",
      "   macro avg       0.94      0.94      0.94        90\n",
      "weighted avg       0.95      0.94      0.94        90\n",
      "\n",
      "\n"
     ]
    }
   ],
   "source": [
    "# Initializing and Predicting Results using Random Forest Classifier\n",
    "\n",
    "tree = RandomForestClassifier(n_estimators=100,random_state=8)\n",
    "tree.fit(X_train, Y_train)\n",
    "Y_pred = tree.predict(X_test)\n",
    "print(f\"Model Accuracy: {accuracy_score(Y_test, Y_pred)}\")\n",
    "print(f\"Confusion Matrix:\\n {confusion_matrix(Y_test, Y_pred)}\\n\")\n",
    "print(f\"Classification Report:\\n {classification_report(Y_test, Y_pred)}\\n\")"
   ]
  },
  {
   "cell_type": "code",
   "execution_count": 18,
   "id": "e34517bb-8549-4caf-8d82-ff388ace9a1a",
   "metadata": {},
   "outputs": [
    {
     "name": "stdout",
     "output_type": "stream",
     "text": [
      "Mean Decrease Accuracy[0.09024115 0.02863271 0.47511934 0.4060068 ]\n",
      "\n",
      "Mean Decrease GINI= [0.05986201 0.01899368 0.31517327 0.26932705]\n"
     ]
    },
    {
     "data": {
      "image/png": "[encoded data removed]",
      "text/plain": [
       "<Figure size 1000x600 with 1 Axes>"
      ]
     },
     "metadata": {},
     "output_type": "display_data"
    },
    {
     "data": {
      "image/png": "[encoded data removed]",
      "text/plain": [
       "<Figure size 1000x600 with 1 Axes>"
      ]
     },
     "metadata": {},
     "output_type": "display_data"
    }
   ],
   "source": [
    "\n",
    "# Feature importance for Mean Decrease Accuracy\n",
    "mean_decrease_accuracy = tree.feature_importances_\n",
    "print(f\"Mean Decrease Accuracy{ mean_decrease_accuracy}\")\n",
    "# # Feature importance for Mean Decrease GINI\n",
    "# # Note: GINI importance is specific to decision trees and random forests\n",
    "gini_importance = tree.feature_importances_ * tree.estimators_[0].tree_.impurity[0]\n",
    "print(f\"\\nMean Decrease GINI= {gini_importance}\")\n",
    "\n",
    "plt.figure(figsize=(10, 6))\n",
    "plt.barh(range(len(mean_decrease_accuracy)), mean_decrease_accuracy, align='center')\n",
    "plt.yticks(range(len(mean_decrease_accuracy)), df.columns)\n",
    "plt.xlabel('Mean Decrease Accuracy')\n",
    "plt.title('Feature Importance - Mean Decrease Accuracy')\n",
    "plt.show()\n",
    "plt.figure(figsize=(10, 6))\n",
    "plt.barh(range(len(gini_importance)), gini_importance, align='center')\n",
    "plt.yticks(range(len(gini_importance)), df.columns)\n",
    "plt.xlabel('Mean Decrease GINI')\n",
    "plt.title('Feature Importance - Mean Decrease GINI')\n",
    "plt.show()\n",
    " "
   ]
  },
  {
   "cell_type": "markdown",
   "id": "39bdd0b2",
   "metadata": {},
   "source": [
    "<br></br>\n",
    "<b>Which Features are the Most Important?</b>\n",
    "<br> The most important feature is RecHR, as it can also be inferred that the greater the heart recovery rate, greater was the impact of heart attack was i.e. for Massive Heart Attacks values of RecHR ranges in between 120-148, a little lesser for Mild, and even less for Light Heart Attack\n"
   ]
  }
 ],
 "metadata": {
  "kernelspec": {
   "display_name": "Python 3 (ipykernel)",
   "language": "python",
   "name": "python3"
  },
  "language_info": {
   "codemirror_mode": {
    "name": "ipython",
    "version": 3
   },
   "file_extension": ".py",
   "mimetype": "text/x-python",
   "name": "python",
   "nbconvert_exporter": "python",
   "pygments_lexer": "ipython3",
   "version": "3.11.5"
  }
 },
 "nbformat": 4,
 "nbformat_minor": 5
}
